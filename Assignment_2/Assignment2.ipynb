{
 "cells": [
  {
   "cell_type": "code",
   "execution_count": 15,
   "metadata": {},
   "outputs": [],
   "source": [
    "# Importing required libraries\n",
    "\n",
    "import plotly.graph_objects as go\n",
    "from ipywidgets import FloatSlider, Button, HBox, VBox\n",
    "import pyvista as pv\n",
    "import numpy as np"
   ]
  },
  {
   "cell_type": "code",
   "execution_count": 16,
   "metadata": {},
   "outputs": [],
   "source": [
    "# Load the 3D dataset\n",
    "\n",
    "dataset = pv.read('mixture.vti')\n"
   ]
  },
  {
   "cell_type": "code",
   "execution_count": 17,
   "metadata": {},
   "outputs": [
    {
     "name": "stdout",
     "output_type": "stream",
     "text": [
      "Available arrays: ['ImageFile']\n"
     ]
    }
   ],
   "source": [
    "# Verifying the scalar field name\n",
    "\n",
    "print(\"Available arrays:\", dataset.point_data.keys())"
   ]
  },
  {
   "cell_type": "code",
   "execution_count": 18,
   "metadata": {},
   "outputs": [],
   "source": [
    "# Extracting the scalar field\n",
    "\n",
    "scalar_field_name = 'ImageFile'\n",
    "scalars = dataset.point_data[scalar_field_name]"
   ]
  },
  {
   "cell_type": "code",
   "execution_count": 19,
   "metadata": {},
   "outputs": [],
   "source": [
    "# Preparing the data\n",
    "\n",
    "dims = dataset.dimensions\n",
    "data_3d = scalars.reshape(dims, order='F')\n",
    "data_flattened = data_3d.flatten()\n",
    "data_min, data_max = data_flattened.min(), data_flattened.max()"
   ]
  },
  {
   "cell_type": "code",
   "execution_count": 20,
   "metadata": {},
   "outputs": [],
   "source": [
    "# Generating grid coordinates\n",
    "\n",
    "x_coords = np.arange(dims[0])\n",
    "y_coords = np.arange(dims[1])\n",
    "z_coords = np.arange(dims[2])\n",
    "X, Y, Z = np.meshgrid(x_coords, y_coords, z_coords, indexing='ij')\n",
    "X, Y, Z = X.flatten(), Y.flatten(), Z.flatten()"
   ]
  },
  {
   "cell_type": "code",
   "execution_count": 21,
   "metadata": {},
   "outputs": [],
   "source": [
    "# Creating initial isosurface trace\n",
    "\n",
    "initial_isovalue = 0.0\n",
    "isosurface_trace = go.Isosurface(\n",
    "    x = X,\n",
    "    y = Y,\n",
    "    z = Z,\n",
    "    value = data_flattened,\n",
    "    isomin = initial_isovalue,\n",
    "    isomax = initial_isovalue,\n",
    "    surface = dict(count=1),\n",
    "    colorscale = 'plasma',\n",
    "    caps = dict(x_show=False, y_show=False, z_show=False),\n",
    "    colorbar = dict(title = 'Value')\n",
    ")"
   ]
  },
  {
   "cell_type": "code",
   "execution_count": 22,
   "metadata": {},
   "outputs": [
    {
     "data": {
      "application/vnd.jupyter.widget-view+json": {
       "model_id": "dfa635af89e9476bac2453def9014bd3",
       "version_major": 2,
       "version_minor": 0
      },
      "text/plain": [
       "FigureWidget({\n",
       "    'data': [{'caps': {'x': {'show': False}, 'y': {'show': False}, 'z': {'show': False}},\n",
       "              'colorbar': {'title': {'text': 'Value'}},\n",
       "              'colorscale': [[0.0, '#0d0887'], [0.1111111111111111, '#46039f'],\n",
       "                             [0.2222222222222222, '#7201a8'], [0.3333333333333333,\n",
       "                             '#9c179e'], [0.4444444444444444, '#bd3786'],\n",
       "                             [0.5555555555555556, '#d8576b'], [0.6666666666666666,\n",
       "                             '#ed7953'], [0.7777777777777778, '#fb9f3a'],\n",
       "                             [0.8888888888888888, '#fdca26'], [1.0, '#f0f921']],\n",
       "              'isomax': 0.0,\n",
       "              'isomin': 0.0,\n",
       "              'surface': {'count': 1},\n",
       "              'type': 'isosurface',\n",
       "              'uid': '46bf1ad2-b42a-4f5c-b154-f981d3103fea',\n",
       "              'value': {'bdata': ('2GgnvS5Dp7weGJu7Ybe3ulPtP7x05h' ... 'wNv0BBO79AfGG/y1Nxv4fFW7/Tfzq/'),\n",
       "                        'dtype': 'f4'},\n",
       "              'x': {'bdata': ('AAAAAAAAAAAAAAAAAAAAAAAAAAAAAA' ... 'AAAEoAAABKAAAASgAAAEoAAABKAAAA'),\n",
       "                    'dtype': 'i4'},\n",
       "              'y': {'bdata': ('AAAAAAAAAAAAAAAAAAAAAAAAAAAAAA' ... 'AAAEoAAABKAAAASgAAAEoAAABKAAAA'),\n",
       "                    'dtype': 'i4'},\n",
       "              'z': {'bdata': ('AAAAAAEAAAACAAAAAwAAAAQAAAAFAA' ... 'AAAEYAAABHAAAASAAAAEkAAABKAAAA'),\n",
       "                    'dtype': 'i4'}}],\n",
       "    'layout': {'scene': {'aspectmode': 'manual', 'aspectratio': {'x': 1, 'y': 1, 'z': 1}},\n",
       "               'template': '...',\n",
       "               'title': {'text': 'Isosurface'}}\n",
       "})"
      ]
     },
     "execution_count": 22,
     "metadata": {},
     "output_type": "execute_result"
    }
   ],
   "source": [
    "# Initialize FigureWidget for isosurface\n",
    "\n",
    "isosurface_fig = go.FigureWidget(data=[isosurface_trace])\n",
    "isosurface_fig.update_layout(\n",
    "    title = 'Isosurface',\n",
    "    scene = dict(aspectmode='manual', aspectratio=dict(x=1, y=1, z=1))\n",
    ")"
   ]
  },
  {
   "cell_type": "code",
   "execution_count": 23,
   "metadata": {},
   "outputs": [
    {
     "data": {
      "application/vnd.jupyter.widget-view+json": {
       "model_id": "1337b9da60844fed9e470a7c9dc8d373",
       "version_major": 2,
       "version_minor": 0
      },
      "text/plain": [
       "FigureWidget({\n",
       "    'data': [{'marker': {'color': 'blue'},\n",
       "              'nbinsx': 50,\n",
       "              'type': 'histogram',\n",
       "              'uid': '88ec37ad-97b8-4f17-8b44-b9853deb6387',\n",
       "              'x': {'bdata': ('2GgnvS5Dp7weGJu7Ybe3ulPtP7x05h' ... 'wNv0BBO79AfGG/y1Nxv4fFW7/Tfzq/'),\n",
       "                    'dtype': 'f4'}}],\n",
       "    'layout': {'template': '...',\n",
       "               'title': {'text': 'Histogram'},\n",
       "               'xaxis': {'range': [-0.9935540556907654, 0.43280163407325745], 'title': {'text': 'Value'}},\n",
       "               'yaxis': {'title': {'text': 'Count'}}}\n",
       "})"
      ]
     },
     "execution_count": 23,
     "metadata": {},
     "output_type": "execute_result"
    }
   ],
   "source": [
    "# Initializing Histogram\n",
    "\n",
    "histogram_trace = go.Histogram(\n",
    "    x = data_flattened,\n",
    "    nbinsx = 50,\n",
    "    marker = dict(color = 'blue')\n",
    ")\n",
    "histogram_fig = go.FigureWidget(data=[histogram_trace])\n",
    "histogram_fig.update_layout(\n",
    "    title = 'Histogram',\n",
    "    xaxis = dict(title = \"Value\", range = [data_min, data_max]),\n",
    "    yaxis = dict(title = \"Count\")\n",
    ")"
   ]
  },
  {
   "cell_type": "code",
   "execution_count": 24,
   "metadata": {},
   "outputs": [],
   "source": [
    "# Creating widgets\n",
    "\n",
    "isovalue_slider = FloatSlider(\n",
    "    value = initial_isovalue,\n",
    "    min = data_min,\n",
    "    max = data_max,\n",
    "    step = 0.1, # adjust this according to the need of the hour.\n",
    "    description = 'Isovalue:',\n",
    "    continuous_update = False\n",
    ")\n",
    "reset_button = Button(description='Reset')"
   ]
  },
  {
   "cell_type": "code",
   "execution_count": 25,
   "metadata": {},
   "outputs": [],
   "source": [
    "# Update function\n",
    "\n",
    "def update_visualizations(change):\n",
    "    x = change['new']\n",
    "    # update isosurface\n",
    "    isosurface_fig.data[0].isomin = x\n",
    "    isosurface_fig.data[0].isomax = x\n",
    "\n",
    "    # update histogram\n",
    "    lower_bound = max(data_min, x - 0.25)\n",
    "    upper_bound = min(data_max, x + 0.25)\n",
    "    mask = (data_flattened >= lower_bound) & (data_flattened <= upper_bound)\n",
    "    filtered_data = data_flattened[mask]\n",
    "    histogram_fig.data[0].x = filtered_data\n",
    "    histogram_fig.update_layout(xaxis=dict(range=[x-0.25, x+0.25]))"
   ]
  },
  {
   "cell_type": "code",
   "execution_count": 26,
   "metadata": {},
   "outputs": [],
   "source": [
    "# Reset function\n",
    "\n",
    "def reset_visualizations(button):\n",
    "    isovalue_slider.value = initial_isovalue\n",
    "    isosurface_fig.data[0].isomin = initial_isovalue\n",
    "    isosurface_fig.data[0].isomax = initial_isovalue\n",
    "    histogram_fig.update_traces(x=data_flattened)\n",
    "    histogram_fig.update_layout(xaxis=dict(range=[data_min, data_max]))"
   ]
  },
  {
   "cell_type": "code",
   "execution_count": 27,
   "metadata": {},
   "outputs": [],
   "source": [
    "# Connecting widgets\n",
    "\n",
    "isovalue_slider.observe(update_visualizations, names='value')\n",
    "reset_button.on_click(reset_visualizations)"
   ]
  },
  {
   "cell_type": "code",
   "execution_count": 28,
   "metadata": {},
   "outputs": [
    {
     "data": {
      "application/vnd.jupyter.widget-view+json": {
       "model_id": "b38d836bb39947c5948f4b36d171507a",
       "version_major": 2,
       "version_minor": 0
      },
      "text/plain": [
       "VBox(children=(HBox(children=(FigureWidget({\n",
       "    'data': [{'caps': {'x': {'show': False}, 'y': {'show': False}…"
      ]
     },
     "metadata": {},
     "output_type": "display_data"
    }
   ],
   "source": [
    "# Displaying interface\n",
    "\n",
    "display(VBox([\n",
    "    HBox([isosurface_fig, histogram_fig]),\n",
    "    HBox([isovalue_slider, reset_button])\n",
    "]))"
   ]
  }
 ],
 "metadata": {
  "kernelspec": {
   "display_name": "Python 3",
   "language": "python",
   "name": "python3"
  },
  "language_info": {
   "codemirror_mode": {
    "name": "ipython",
    "version": 3
   },
   "file_extension": ".py",
   "mimetype": "text/x-python",
   "name": "python",
   "nbconvert_exporter": "python",
   "pygments_lexer": "ipython3",
   "version": "3.12.4"
  }
 },
 "nbformat": 4,
 "nbformat_minor": 2
}
